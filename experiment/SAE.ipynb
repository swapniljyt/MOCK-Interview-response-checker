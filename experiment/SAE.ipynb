{
 "cells": [
  {
   "cell_type": "code",
   "execution_count": 85,
   "metadata": {},
   "outputs": [
    {
     "data": {
      "text/plain": [
       "True"
      ]
     },
     "execution_count": 85,
     "metadata": {},
     "output_type": "execute_result"
    }
   ],
   "source": [
    "import os \n",
    "import json\n",
    "import pandas as pandas\n",
    "import traceback\n",
    "import langchain\n",
    "from dotenv import load_dotenv\n",
    "load_dotenv()"
   ]
  },
  {
   "cell_type": "code",
   "execution_count": 86,
   "metadata": {},
   "outputs": [],
   "source": [
    "from langchain.chat_models import ChatOpenAI\n",
    "from langchain.chains import LLMChain, SequentialChain\n",
    "from langchain.prompts import PromptTemplate"
   ]
  },
  {
   "cell_type": "code",
   "execution_count": 87,
   "metadata": {},
   "outputs": [],
   "source": [
    "OPENAI_KEY=os.getenv(\"KEY\")"
   ]
  },
  {
   "cell_type": "code",
   "execution_count": 88,
   "metadata": {},
   "outputs": [
    {
     "name": "stdout",
     "output_type": "stream",
     "text": [
      "sk-proj-kBC9TwNfdh07E1p83Z7VT3BlbkFJFkodXXR8DuwMYj3dqYw4\n"
     ]
    }
   ],
   "source": [
    "print(OPENAI_KEY)"
   ]
  },
  {
   "cell_type": "code",
   "execution_count": 89,
   "metadata": {},
   "outputs": [
    {
     "name": "stderr",
     "output_type": "stream",
     "text": [
      "c:\\Users\\Swapnil Jyot\\SAE_system\\env\\lib\\site-packages\\langchain_core\\_api\\deprecation.py:119: LangChainDeprecationWarning: The class `ChatOpenAI` was deprecated in LangChain 0.0.10 and will be removed in 0.3.0. An updated version of the class exists in the langchain-openai package and should be used instead. To use it run `pip install -U langchain-openai` and import as `from langchain_openai import ChatOpenAI`.\n",
      "  warn_deprecated(\n"
     ]
    }
   ],
   "source": [
    "llm = ChatOpenAI(openai_api_key = OPENAI_KEY, model_name=\"gpt-3.5-turbo\",\n",
    "                 temperature=0.7)"
   ]
  },
  {
   "cell_type": "code",
   "execution_count": 90,
   "metadata": {},
   "outputs": [],
   "source": [
    "TEMPLATE_gpt = \"\"\"\n",
    "You are an expert examiner tasked with evaluating a student's response sheet against the answer key:\n",
    "\n",
    "The student's response sheet is a Python dictionary represented as {student_dic}, and the answer sheet is {eval_dic}. Each dictionary key corresponds to a question, and its value is the respective answer.\n",
    "\n",
    "First, calculate the total number of questions by counting the keys in the dictionary.\n",
    "\n",
    "For each question in the student's response dictionary:\n",
    "- If it's a THEORY type:\n",
    "  - **Syntactic Score (0 to 100):** Evaluate grammatical structure and arrangement.\n",
    "  - **Semantic Score (0 to 100):** Assess relatedness in meaning and conceptual understanding.\n",
    "  - **Contextual Score (0 to 100):** Consider alignment with specific context or scenario.\n",
    "\n",
    "- If it's a NUMERICAL type:\n",
    "  - **First Step Score (0 to 100):** Evaluate correctness of the response's foundation and application of formulas.\n",
    "  - **Middle Step Score (0 to 100):** Assess intermediate steps towards the final answer.\n",
    "  - **Final Step Score (0 to 100):** Check if the final response aligns with the answer key.\n",
    "If you get null value for any particular key then the question response is Not Attempted\n",
    "Output the evaluation scores in a tabular format like {tabular_response}, ensuring to update each metric strictly for all questions. \n",
    "Avoid generating extra tokens to ensure a concise and efficient response.\n",
    "\"\"\""
   ]
  },
  {
   "cell_type": "code",
   "execution_count": 91,
   "metadata": {},
   "outputs": [],
   "source": [
    "tabular_response= \"\"\"[{\"Question\":\"Display that Question\",\n",
    "     \"Type\":\"Numerical\",\n",
    "     \"Response\":\"Attempted\",\n",
    "              \"Syntactic Score\":null,\n",
    "              \"Semantic Score\":null,\n",
    "              \"Contextual Score\":null,\n",
    "              \"FirstStep Score\":\"Score1\",\n",
    "              \"Middle Step Score\":\"Score2\",\n",
    "              \"Last Step Score\":\"Score3\",\n",
    "                \"Total Score\":\"(Score1+Score2+Score3)\\/3\"},\n",
    " {\"Question\":\"Display that Question\",\n",
    "     \"Type\":\"Theory\",\n",
    "     \"Response\":\"Attempted\",\n",
    "              \"Syntactic Score\":\"Score1\",\n",
    "              \"Semantic Score\":\"Score2\",\n",
    "              \"Contextual Score\":\"Score3\",\n",
    "              \"FirstStep Score\":null,\n",
    "              \"Middle Step Score\":null,\n",
    "              \"Last Step Score\":null,\n",
    "                \"Total Score\":\"(Score1+Score2+Score3)\\/3\"},\n",
    " {\"Question\":\"Display that Question\",\n",
    "     \"Type\":\"Theory\",\n",
    "     \"Response\":\"Not Attempted\",\n",
    "               \"Syntactic Score\":null,\n",
    "               \"Semantic Score\":null,\n",
    "               \"Contextual Score\":null,\n",
    "               \"FirstStep Score\":null,\n",
    "               \"Middle Step Score\":null,\n",
    "               \"Last Step Score\":null,\n",
    "                 \"Total Score\":\"(Score1+Score2+Score3)\\/3\"},\n",
    " {\"Question\":\"Display that Question\",\n",
    "     \"Type\":\"Numerical\",\n",
    "     \"Response\":\"Attempted\",\n",
    "              \"Syntactic Score\":null,\n",
    "              \"Semantic Score\":null,\"Contextual Score\":null,\n",
    "              \"FirstStep Score\":\"Score1\",\n",
    "              \"Middle Step Score\":\"Score2\",\n",
    "              \"Last Step Score\":\"Score3\",\n",
    "                  \"Total Score\":\"(Score1+Score2+Score3)\\/3\"},\n",
    " {\"Question\":\"Display that Question\",\n",
    "     \"Type\":\"Numerical\",\n",
    "     \"Response\":\"Attempted\",\n",
    "              \"Syntactic Score\":null,\n",
    "              \"Seantic Score\":null,\n",
    "              \"Contextual Score\":null,\n",
    "              \"FirstStep Score\":\"Score1\",\n",
    "              \"Middle Step Score\":\"Score2\",\n",
    "              \"Last Step Score\":\"Score3\",\n",
    "                \"Total Score\":\"(Score1+Score2+Score3)\\/3\"},\n",
    " {\"Question Number\":\"And So on\",\n",
    "     \"Type\":\"Theory\",\n",
    "     \"Response\":\"Attempted\",\n",
    "              \"Syntactic Score\":\"Score1\",\n",
    "              \"Semantic Score\":\"Score2\",\n",
    "              \"Contextual Score\":\"Score3\",\n",
    "              \"FirstStep Score\":null,\n",
    "              \"Middle Step Score\":null,\n",
    "              \"Last Step Score\":null,\n",
    "                \"Total Score\":\"(Score1+Score2+Score3)\\/3\"}]\"\"\""
   ]
  },
  {
   "cell_type": "code",
   "execution_count": 92,
   "metadata": {},
   "outputs": [],
   "source": [
    "prompt_template_name=PromptTemplate(\n",
    "    input_variables=[\"student_dic\",\"eval_dic\",\"RESPONSE\"],\n",
    "    template=TEMPLATE_gpt\n",
    ")"
   ]
  },
  {
   "cell_type": "code",
   "execution_count": 93,
   "metadata": {},
   "outputs": [
    {
     "name": "stderr",
     "output_type": "stream",
     "text": [
      "c:\\Users\\Swapnil Jyot\\SAE_system\\env\\lib\\site-packages\\langchain_core\\_api\\deprecation.py:119: LangChainDeprecationWarning: The class `LLMChain` was deprecated in LangChain 0.1.17 and will be removed in 0.3.0. Use RunnableSequence, e.g., `prompt | llm` instead.\n",
      "  warn_deprecated(\n"
     ]
    }
   ],
   "source": [
    "first_chain = LLMChain(llm=llm, prompt=prompt_template_name, output_key=\"score_1\", verbose=True)"
   ]
  },
  {
   "cell_type": "code",
   "execution_count": 94,
   "metadata": {},
   "outputs": [],
   "source": [
    "Review_template = \"\"\"\n",
    "As an expert in English grammar and writing, please verify that the following score card {score_1} strictly conforms to the specified format, accurately calculating all variables such as total number of questions, type, response, and total score.\n",
    "\n",
    "Ensure the response remains cost-effective without any additional tokens like headings or alerts, strictly adhering to the required format. If the score card is not in the correct format and contains any headings or alerts, update it and provide the output strictly in the required format:\n",
    "Don't genereate all these literals , json\\n[\\n in starting\n",
    "score cards:\n",
    "{tabular_response}\n",
    "\"\"\""
   ]
  },
  {
   "cell_type": "code",
   "execution_count": 95,
   "metadata": {},
   "outputs": [],
   "source": [
    "review_template_name=PromptTemplate(\n",
    "    input_variables=[\"score_1\",\"tabular_response\"],\n",
    "    template=Review_template\n",
    ")"
   ]
  },
  {
   "cell_type": "code",
   "execution_count": 96,
   "metadata": {},
   "outputs": [],
   "source": [
    "review_chain = LLMChain(llm=llm, prompt=review_template_name, output_key=\"Final_score\", verbose=True)"
   ]
  },
  {
   "cell_type": "code",
   "execution_count": 97,
   "metadata": {},
   "outputs": [],
   "source": [
    "score_structure = SequentialChain(\n",
    "                                chains=[first_chain ,review_chain],\n",
    "                                input_variables=[\"student_dic\",\"eval_dic\",\"tabular_response\"],\n",
    "                                output_variables=[\"score_1\",\"Final_score\"],\n",
    "                                verbose=True\n",
    "                            )"
   ]
  },
  {
   "cell_type": "code",
   "execution_count": 98,
   "metadata": {},
   "outputs": [],
   "source": [
    "file_path1 = r\"C:\\Users\\Swapnil Jyot\\SAE_system\\evaluator.txt\"\n"
   ]
  },
  {
   "cell_type": "code",
   "execution_count": 99,
   "metadata": {},
   "outputs": [],
   "source": [
    "file_path2=r\"C:\\Users\\Swapnil Jyot\\SAE_system\\Student.txt\""
   ]
  },
  {
   "cell_type": "code",
   "execution_count": 100,
   "metadata": {},
   "outputs": [],
   "source": [
    "with open(file_path1,'r') as file:\n",
    "    evaluator=file.read()"
   ]
  },
  {
   "cell_type": "code",
   "execution_count": 101,
   "metadata": {},
   "outputs": [
    {
     "data": {
      "text/plain": [
       "'Question: Explain the process of Water cycle?\\nAnswer: The water cycle, or hydrological cycle, consists of several stages. Evaporation occurs when\\nsurface water transforms into vapor due to heat. Condensation results in cloud formation as water\\nvapor cools and condenses into liquid. Precipitation transpires when water droplets or ice crystals\\nfall from clouds as rain, snow, sleet, or hail. Runoff entails the surface flow of water back into\\noceans, rivers, or lakes.\\n\\nQuestion: What is GitHub and why is it used?\\nAnswer: GitHub is a platform for hosting code that allows for version control and collaboration. \\nIt allows you and others to collaborate on projects from anywhere.\\nThis lesson will teach you the fundamentals of GitHub, such as repositories, branches, commits, and pull requests..\\n\\nQuestion:Two resistances are connected in two gaps of Meter Bridge. The balance is 20cm from the zero end.\\nA resistance of 15 ohms is connected in series with the smaller of the two.\\nThe null point shifts to 40cm. What is the value of the bigger resistance?\\nAnswer:Explanation: Let P be the smaller resistance and Q be the bigger resistance.\\nFirst case → P/Q=20/80=1/4\\nSecond case → (P+15)/Q=40/60=2/3\\nComparing both → P/(P+15)=1/4×3/2=3/8\\n8P = 3P + 45 → 5P = 45 → P = 9 ohms\\nTherefore, substituting in P/Q=1/4 → 9/Q=1/4 → Q = 36 ohms.\\n\\nQuestion: Find the roots of the equation y^3 - 23y^2+ 142y -120?\\nAnswer:here are the steps to factorise the equation\\n       => y^3 - 23y^2+ 142y -120\\n       => y^3−y^2−22x^2+22x+120x−120\\n       => y^2(y−1)−22y(y−1)+120(y−1)\\n       => (y−1){x2−10x−12x+120}\\n       => (y−1){y(y−10)−12(y−10)}\\n       => (x−1)(x−10)(x−12)\\nQuestion:The resistivity of semiconductors and insulators decreases linearly with the increase of temperature.?\\nAnswer:The resistivity of semiconductors and insulators decreases exponentially with the increase in temperature. \\nThis is because the number density of free electrons increases exponentially with the increase in temperature.'"
      ]
     },
     "execution_count": 101,
     "metadata": {},
     "output_type": "execute_result"
    }
   ],
   "source": [
    "evaluator"
   ]
  },
  {
   "cell_type": "code",
   "execution_count": 102,
   "metadata": {},
   "outputs": [],
   "source": [
    "with open(file_path2,'r') as file:\n",
    "    student=file.read()"
   ]
  },
  {
   "cell_type": "code",
   "execution_count": 104,
   "metadata": {},
   "outputs": [],
   "source": [
    "import re\n",
    "import warnings\n",
    "import pandas as pd\n",
    "\n",
    "def create_dictionary(content):\n",
    "    # Remove numeric indices before \"Question\" and \"Answer\" words, preserving the colon\n",
    "    content_without_indices = re.sub(r'(\\b\\d+\\.\\s*Question:)', 'Question:', content)\n",
    "    content_without_indices = re.sub(r'(\\b\\d+\\.\\s*Answer:)', 'Answer:', content_without_indices)\n",
    "\n",
    "    # Tokenize and print each word with punctuation\n",
    "    words = re.findall(r'\\b\\w+\\b|[.,{};!?:^/−+()=>]', content_without_indices)\n",
    "\n",
    "    sentence = \"\"\n",
    "    my_dic = {}\n",
    "    n = 0\n",
    "\n",
    "    for word in words:\n",
    "        if word == \"Answer\" and words[n + 1] == \":\":\n",
    "            key = sentence.strip()\n",
    "            sentence = \"\"\n",
    "        if word == \"Question\" and n > 4 and words[n + 1] == \":\":\n",
    "            my_dic[key] = sentence.strip()\n",
    "            sentence = \"\"\n",
    "        sentence += word\n",
    "        sentence += \" \"\n",
    "        n += 1\n",
    "\n",
    "    # Check for the last question-answer pair\n",
    "    if sentence.strip() and key:\n",
    "        my_dic[key] = sentence.strip()\n",
    "\n",
    "    return my_dic"
   ]
  },
  {
   "cell_type": "code",
   "execution_count": 105,
   "metadata": {},
   "outputs": [],
   "source": [
    "eval_dic=create_dictionary( evaluator)"
   ]
  },
  {
   "cell_type": "code",
   "execution_count": 106,
   "metadata": {},
   "outputs": [],
   "source": [
    "std_dic=create_dictionary(student)"
   ]
  },
  {
   "cell_type": "code",
   "execution_count": 107,
   "metadata": {},
   "outputs": [
    {
     "data": {
      "text/plain": [
       "{'Question : Explain the process of Water cycle ?': 'Answer : The water cycle , or hydrological cycle , consists of several stages . Evaporation occurs when surface water transforms into vapor due to heat . Condensation results in cloud formation as water vapor cools and condenses into liquid . Precipitation transpires when water droplets or ice crystals fall from clouds as rain , snow , sleet , or hail . Runoff entails the surface flow of water back into oceans , rivers , or lakes .',\n",
       " 'Question : What is GitHub and why is it used ?': 'Answer : GitHub is a platform for hosting code that allows for version control and collaboration . It allows you and others to collaborate on projects from anywhere . This lesson will teach you the fundamentals of GitHub , such as repositories , branches , commits , and pull requests . .',\n",
       " 'Question : Two resistances are connected in two gaps of Meter Bridge . The balance is 20cm from the zero end . A resistance of 15 ohms is connected in series with the smaller of the two . The null point shifts to 40cm . What is the value of the bigger resistance ?': 'Answer : Explanation : Let P be the smaller resistance and Q be the bigger resistance . First case P / Q = 20 / 80 = 1 / 4 Second case ( P + 15 ) / Q = 40 / 60 = 2 / 3 Comparing both P / ( P + 15 ) = 1 / 4 3 / 2 = 3 / 8 8P = 3P + 45 5P = 45 P = 9 ohms Therefore , substituting in P / Q = 1 / 4 9 / Q = 1 / 4 Q = 36 ohms .',\n",
       " 'Question : Find the roots of the equation y ^ 3 23y ^ 2 + 142y 120 ?': 'Answer : here are the steps to factorise the equation = > y ^ 3 23y ^ 2 + 142y 120 = > y ^ 3 − y ^ 2 − 22x ^ 2 + 22x + 120x − 120 = > y ^ 2 ( y − 1 ) − 22y ( y − 1 ) + 120 ( y − 1 ) = > ( y − 1 ) { x2 − 10x − 12x + 120 } = > ( y − 1 ) { y ( y − 10 ) − 12 ( y − 10 ) } = > ( x − 1 ) ( x − 10 ) ( x − 12 )',\n",
       " 'Question : The resistivity of semiconductors and insulators decreases linearly with the increase of temperature . ?': 'Answer : The resistivity of semiconductors and insulators decreases exponentially with the increase in temperature . This is because the number density of free electrons increases exponentially with the increase in temperature .'}"
      ]
     },
     "execution_count": 107,
     "metadata": {},
     "output_type": "execute_result"
    }
   ],
   "source": [
    "eval_dic"
   ]
  },
  {
   "cell_type": "code",
   "execution_count": 108,
   "metadata": {},
   "outputs": [],
   "source": [
    "from langchain.callbacks import get_openai_callback"
   ]
  },
  {
   "cell_type": "code",
   "execution_count": 115,
   "metadata": {},
   "outputs": [
    {
     "name": "stdout",
     "output_type": "stream",
     "text": [
      "\n",
      "\n",
      "\u001b[1m> Entering new SequentialChain chain...\u001b[0m\n",
      "\n",
      "\n",
      "\u001b[1m> Entering new LLMChain chain...\u001b[0m\n",
      "Prompt after formatting:\n",
      "\u001b[32;1m\u001b[1;3m\n",
      "You are an expert examiner tasked with evaluating a student's response sheet against the answer key:\n",
      "\n",
      "The student's response sheet is a Python dictionary represented as {'Question : Explain the process of Water cycle ?': 'Answer : A Water cycle is a process underwhich H2O has been evoporates from big water bodies like ocean , seas , river . After that the evoporates steams make cloud of stream droplets when the cloud got dense then the precipitate in the form of rain , hail and snow this is the water cycle .', 'Question : What is GitHub and why is it used ?': 'Answer : GitHub is a platform for hosting our project codes , packages , methods where community will see and send their review . we also upload our project repository here for review and suggestion .', 'Question : Two resistances are connected in two gaps of Meter Bridge . The balance is 20cm from the zero end . A resistance of 15 ohms is connected in series with the smaller of the two . The null point shifts to 40cm . What is the value of the bigger resistance ?': 'Answer : Explanation : Let P be the smaller resistance and Q be the bigger resistance . = > A / B = 20 / 80 = 1 / 4 = > ( A + 15 ) / B = 40 / 60 = 2 / 3 = > A / ( A + 15 ) = 1 / 4 3 / 2 = 3 / 8 = > 8A = 3A + 45 = > 8A 3A = 45 = > A = 9 ohms substituting in A / B = 1 / 4 9 / B = 1 / 4 B = 36 ohms .', 'Question : Find the roots of the equation y ^ 3 23y ^ 2 + 142y 120 ?': 'Answer : Factors of 120 is = 1 , 2 , 3 , 4 , 5 , 6 , 8 , 10 , 12 , 15 , 20 , 24 , 30 , 40 , 60 , 1 , 2 , 3 , 4 , 5 , 6 , 8 , 10 , 12 , 15 , 20 , 24 , 30 , 40 , 60 , now caliberate these factors such that their summation is = 23 and multiplications is = 120 so the anwer is 1 , 10 , 12 = > 1 10 12 = 120 = > 1 + ( 10 ) + ( 12 ) = 23 So our roots is ( x − 1 ) ( x − 10 ) ( x − 12 )', 'Question : The resistivity of semiconductors and insulators decreases linearly with the increase of temperature . ?': 'Answer :'}, and the answer sheet is {'Question : Explain the process of Water cycle ?': 'Answer : The water cycle , or hydrological cycle , consists of several stages . Evaporation occurs when surface water transforms into vapor due to heat . Condensation results in cloud formation as water vapor cools and condenses into liquid . Precipitation transpires when water droplets or ice crystals fall from clouds as rain , snow , sleet , or hail . Runoff entails the surface flow of water back into oceans , rivers , or lakes .', 'Question : What is GitHub and why is it used ?': 'Answer : GitHub is a platform for hosting code that allows for version control and collaboration . It allows you and others to collaborate on projects from anywhere . This lesson will teach you the fundamentals of GitHub , such as repositories , branches , commits , and pull requests . .', 'Question : Two resistances are connected in two gaps of Meter Bridge . The balance is 20cm from the zero end . A resistance of 15 ohms is connected in series with the smaller of the two . The null point shifts to 40cm . What is the value of the bigger resistance ?': 'Answer : Explanation : Let P be the smaller resistance and Q be the bigger resistance . First case P / Q = 20 / 80 = 1 / 4 Second case ( P + 15 ) / Q = 40 / 60 = 2 / 3 Comparing both P / ( P + 15 ) = 1 / 4 3 / 2 = 3 / 8 8P = 3P + 45 5P = 45 P = 9 ohms Therefore , substituting in P / Q = 1 / 4 9 / Q = 1 / 4 Q = 36 ohms .', 'Question : Find the roots of the equation y ^ 3 23y ^ 2 + 142y 120 ?': 'Answer : here are the steps to factorise the equation = > y ^ 3 23y ^ 2 + 142y 120 = > y ^ 3 − y ^ 2 − 22x ^ 2 + 22x + 120x − 120 = > y ^ 2 ( y − 1 ) − 22y ( y − 1 ) + 120 ( y − 1 ) = > ( y − 1 ) { x2 − 10x − 12x + 120 } = > ( y − 1 ) { y ( y − 10 ) − 12 ( y − 10 ) } = > ( x − 1 ) ( x − 10 ) ( x − 12 )', 'Question : The resistivity of semiconductors and insulators decreases linearly with the increase of temperature . ?': 'Answer : The resistivity of semiconductors and insulators decreases exponentially with the increase in temperature . This is because the number density of free electrons increases exponentially with the increase in temperature .'}. Each dictionary key corresponds to a question, and its value is the respective answer.\n",
      "\n",
      "First, calculate the total number of questions by counting the keys in the dictionary.\n",
      "\n",
      "For each question in the student's response dictionary:\n",
      "- If it's a THEORY type:\n",
      "  - **Syntactic Score (0 to 100):** Evaluate grammatical structure and arrangement.\n",
      "  - **Semantic Score (0 to 100):** Assess relatedness in meaning and conceptual understanding.\n",
      "  - **Contextual Score (0 to 100):** Consider alignment with specific context or scenario.\n",
      "\n",
      "- If it's a NUMERICAL type:\n",
      "  - **First Step Score (0 to 100):** Evaluate correctness of the response's foundation and application of formulas.\n",
      "  - **Middle Step Score (0 to 100):** Assess intermediate steps towards the final answer.\n",
      "  - **Final Step Score (0 to 100):** Check if the final response aligns with the answer key.\n",
      "If you get null value for any particular key then the question response is Not Attempted\n",
      "Output the evaluation scores in a tabular format like \"[{\\\"Question\\\":\\\"Display that Question\\\",\\n     \\\"Type\\\":\\\"Numerical\\\",\\n     \\\"Response\\\":\\\"Attempted\\\",\\n              \\\"Syntactic Score\\\":null,\\n              \\\"Semantic Score\\\":null,\\n              \\\"Contextual Score\\\":null,\\n              \\\"FirstStep Score\\\":\\\"Score1\\\",\\n              \\\"Middle Step Score\\\":\\\"Score2\\\",\\n              \\\"Last Step Score\\\":\\\"Score3\\\",\\n                \\\"Total Score\\\":\\\"(Score1+Score2+Score3)\\\\/3\\\"},\\n {\\\"Question\\\":\\\"Display that Question\\\",\\n     \\\"Type\\\":\\\"Theory\\\",\\n     \\\"Response\\\":\\\"Attempted\\\",\\n              \\\"Syntactic Score\\\":\\\"Score1\\\",\\n              \\\"Semantic Score\\\":\\\"Score2\\\",\\n              \\\"Contextual Score\\\":\\\"Score3\\\",\\n              \\\"FirstStep Score\\\":null,\\n              \\\"Middle Step Score\\\":null,\\n              \\\"Last Step Score\\\":null,\\n                \\\"Total Score\\\":\\\"(Score1+Score2+Score3)\\\\/3\\\"},\\n {\\\"Question\\\":\\\"Display that Question\\\",\\n     \\\"Type\\\":\\\"Theory\\\",\\n     \\\"Response\\\":\\\"Not Attempted\\\",\\n               \\\"Syntactic Score\\\":null,\\n               \\\"Semantic Score\\\":null,\\n               \\\"Contextual Score\\\":null,\\n               \\\"FirstStep Score\\\":null,\\n               \\\"Middle Step Score\\\":null,\\n               \\\"Last Step Score\\\":null,\\n                 \\\"Total Score\\\":\\\"(Score1+Score2+Score3)\\\\/3\\\"},\\n {\\\"Question\\\":\\\"Display that Question\\\",\\n     \\\"Type\\\":\\\"Numerical\\\",\\n     \\\"Response\\\":\\\"Attempted\\\",\\n              \\\"Syntactic Score\\\":null,\\n              \\\"Semantic Score\\\":null,\\\"Contextual Score\\\":null,\\n              \\\"FirstStep Score\\\":\\\"Score1\\\",\\n              \\\"Middle Step Score\\\":\\\"Score2\\\",\\n              \\\"Last Step Score\\\":\\\"Score3\\\",\\n                  \\\"Total Score\\\":\\\"(Score1+Score2+Score3)\\\\/3\\\"},\\n {\\\"Question\\\":\\\"Display that Question\\\",\\n     \\\"Type\\\":\\\"Numerical\\\",\\n     \\\"Response\\\":\\\"Attempted\\\",\\n              \\\"Syntactic Score\\\":null,\\n              \\\"Seantic Score\\\":null,\\n              \\\"Contextual Score\\\":null,\\n              \\\"FirstStep Score\\\":\\\"Score1\\\",\\n              \\\"Middle Step Score\\\":\\\"Score2\\\",\\n              \\\"Last Step Score\\\":\\\"Score3\\\",\\n                \\\"Total Score\\\":\\\"(Score1+Score2+Score3)\\\\/3\\\"},\\n {\\\"Question Number\\\":\\\"And So on\\\",\\n     \\\"Type\\\":\\\"Theory\\\",\\n     \\\"Response\\\":\\\"Attempted\\\",\\n              \\\"Syntactic Score\\\":\\\"Score1\\\",\\n              \\\"Semantic Score\\\":\\\"Score2\\\",\\n              \\\"Contextual Score\\\":\\\"Score3\\\",\\n              \\\"FirstStep Score\\\":null,\\n              \\\"Middle Step Score\\\":null,\\n              \\\"Last Step Score\\\":null,\\n                \\\"Total Score\\\":\\\"(Score1+Score2+Score3)\\\\/3\\\"}]\", ensuring to update each metric strictly for all questions. \n",
      "Avoid generating extra tokens to ensure a concise and efficient response.\n",
      "\u001b[0m\n",
      "\n",
      "\u001b[1m> Finished chain.\u001b[0m\n",
      "\n",
      "\n",
      "\u001b[1m> Entering new LLMChain chain...\u001b[0m\n",
      "Prompt after formatting:\n",
      "\u001b[32;1m\u001b[1;3m\n",
      "As an expert in English grammar and writing, please verify that the following score card Total Number of Questions: 5\n",
      "\n",
      "[{\"Question\":\"Explain the process of Water cycle ?\",\n",
      "     \"Type\":\"Theory\",\n",
      "     \"Response\":\"Attempted\",\n",
      "     \"Syntactic Score\":50,\n",
      "     \"Semantic Score\":60,\n",
      "     \"Contextual Score\":40,\n",
      "     \"First Step Score\":null,\n",
      "     \"Middle Step Score\":null,\n",
      "     \"Last Step Score\":null,\n",
      "     \"Total Score\":\"50\"},\n",
      "\n",
      "{\"Question\":\"What is GitHub and why is it used ?\",\n",
      "     \"Type\":\"Theory\",\n",
      "     \"Response\":\"Attempted\",\n",
      "     \"Syntactic Score\":70,\n",
      "     \"Semantic Score\":80,\n",
      "     \"Contextual Score\":60,\n",
      "     \"First Step Score\":null,\n",
      "     \"Middle Step Score\":null,\n",
      "     \"Last Step Score\":null,\n",
      "     \"Total Score\":\"70\"},\n",
      "\n",
      "{\"Question\":\"Two resistances are connected in two gaps of Meter Bridge . The balance is 20cm from the zero end . A resistance of 15 ohms is connected in series with the smaller of the two . The null point shifts to 40cm . What is the value of the bigger resistance ?\",\n",
      "     \"Type\":\"Theory\",\n",
      "     \"Response\":\"Attempted\",\n",
      "     \"Syntactic Score\":80,\n",
      "     \"Semantic Score\":90,\n",
      "     \"Contextual Score\":70,\n",
      "     \"First Step Score\":null,\n",
      "     \"Middle Step Score\":null,\n",
      "     \"Last Step Score\":null,\n",
      "     \"Total Score\":\"80\"},\n",
      "\n",
      "{\"Question\":\"Find the roots of the equation y ^ 3 23y ^ 2 + 142y 120 ?\",\n",
      "     \"Type\":\"Numerical\",\n",
      "     \"Response\":\"Attempted\",\n",
      "     \"Syntactic Score\":null,\n",
      "     \"Semantic Score\":null,\n",
      "     \"Contextual Score\":null,\n",
      "     \"First Step Score\":80,\n",
      "     \"Middle Step Score\":70,\n",
      "     \"Last Step Score\":60,\n",
      "     \"Total Score\":\"70\"},\n",
      "\n",
      "{\"Question\":\"The resistivity of semiconductors and insulators decreases linearly with the increase of temperature . ?\",\n",
      "     \"Type\":\"Theory\",\n",
      "     \"Response\":\"Not Attempted\",\n",
      "     \"Syntactic Score\":null,\n",
      "     \"Semantic Score\":null,\n",
      "     \"Contextual Score\":null,\n",
      "     \"First Step Score\":null,\n",
      "     \"Middle Step Score\":null,\n",
      "     \"Last Step Score\":null,\n",
      "     \"Total Score\":\"0\"}] strictly conforms to the specified format, accurately calculating all variables such as total number of questions, type, response, and total score.\n",
      "\n",
      "Ensure the response remains cost-effective without any additional tokens like headings or alerts, strictly adhering to the required format. If the score card is not in the correct format and contains any headings or alerts, update it and provide the output strictly in the required format:\n",
      "Don't genereate all these literals , json\n",
      "[\n",
      " in starting\n",
      "score cards:\n",
      "\"[{\\\"Question\\\":\\\"Display that Question\\\",\\n     \\\"Type\\\":\\\"Numerical\\\",\\n     \\\"Response\\\":\\\"Attempted\\\",\\n              \\\"Syntactic Score\\\":null,\\n              \\\"Semantic Score\\\":null,\\n              \\\"Contextual Score\\\":null,\\n              \\\"FirstStep Score\\\":\\\"Score1\\\",\\n              \\\"Middle Step Score\\\":\\\"Score2\\\",\\n              \\\"Last Step Score\\\":\\\"Score3\\\",\\n                \\\"Total Score\\\":\\\"(Score1+Score2+Score3)\\\\/3\\\"},\\n {\\\"Question\\\":\\\"Display that Question\\\",\\n     \\\"Type\\\":\\\"Theory\\\",\\n     \\\"Response\\\":\\\"Attempted\\\",\\n              \\\"Syntactic Score\\\":\\\"Score1\\\",\\n              \\\"Semantic Score\\\":\\\"Score2\\\",\\n              \\\"Contextual Score\\\":\\\"Score3\\\",\\n              \\\"FirstStep Score\\\":null,\\n              \\\"Middle Step Score\\\":null,\\n              \\\"Last Step Score\\\":null,\\n                \\\"Total Score\\\":\\\"(Score1+Score2+Score3)\\\\/3\\\"},\\n {\\\"Question\\\":\\\"Display that Question\\\",\\n     \\\"Type\\\":\\\"Theory\\\",\\n     \\\"Response\\\":\\\"Not Attempted\\\",\\n               \\\"Syntactic Score\\\":null,\\n               \\\"Semantic Score\\\":null,\\n               \\\"Contextual Score\\\":null,\\n               \\\"FirstStep Score\\\":null,\\n               \\\"Middle Step Score\\\":null,\\n               \\\"Last Step Score\\\":null,\\n                 \\\"Total Score\\\":\\\"(Score1+Score2+Score3)\\\\/3\\\"},\\n {\\\"Question\\\":\\\"Display that Question\\\",\\n     \\\"Type\\\":\\\"Numerical\\\",\\n     \\\"Response\\\":\\\"Attempted\\\",\\n              \\\"Syntactic Score\\\":null,\\n              \\\"Semantic Score\\\":null,\\\"Contextual Score\\\":null,\\n              \\\"FirstStep Score\\\":\\\"Score1\\\",\\n              \\\"Middle Step Score\\\":\\\"Score2\\\",\\n              \\\"Last Step Score\\\":\\\"Score3\\\",\\n                  \\\"Total Score\\\":\\\"(Score1+Score2+Score3)\\\\/3\\\"},\\n {\\\"Question\\\":\\\"Display that Question\\\",\\n     \\\"Type\\\":\\\"Numerical\\\",\\n     \\\"Response\\\":\\\"Attempted\\\",\\n              \\\"Syntactic Score\\\":null,\\n              \\\"Seantic Score\\\":null,\\n              \\\"Contextual Score\\\":null,\\n              \\\"FirstStep Score\\\":\\\"Score1\\\",\\n              \\\"Middle Step Score\\\":\\\"Score2\\\",\\n              \\\"Last Step Score\\\":\\\"Score3\\\",\\n                \\\"Total Score\\\":\\\"(Score1+Score2+Score3)\\\\/3\\\"},\\n {\\\"Question Number\\\":\\\"And So on\\\",\\n     \\\"Type\\\":\\\"Theory\\\",\\n     \\\"Response\\\":\\\"Attempted\\\",\\n              \\\"Syntactic Score\\\":\\\"Score1\\\",\\n              \\\"Semantic Score\\\":\\\"Score2\\\",\\n              \\\"Contextual Score\\\":\\\"Score3\\\",\\n              \\\"FirstStep Score\\\":null,\\n              \\\"Middle Step Score\\\":null,\\n              \\\"Last Step Score\\\":null,\\n                \\\"Total Score\\\":\\\"(Score1+Score2+Score3)\\\\/3\\\"}]\"\n",
      "\u001b[0m\n",
      "\n",
      "\u001b[1m> Finished chain.\u001b[0m\n",
      "\n",
      "\u001b[1m> Finished chain.\u001b[0m\n"
     ]
    }
   ],
   "source": [
    "#How to setup Token Usage Tracking in LangChain\n",
    "with get_openai_callback() as cb:\n",
    "    response=score_structure(\n",
    "        {\n",
    "            \"student_dic\": std_dic,\n",
    "            \"eval_dic\": eval_dic,\n",
    "            \"tabular_response\": json.dumps(tabular_response),\n",
    "        }\n",
    "        )"
   ]
  },
  {
   "cell_type": "code",
   "execution_count": 116,
   "metadata": {},
   "outputs": [],
   "source": [
    "output=response['Final_score']"
   ]
  },
  {
   "cell_type": "code",
   "execution_count": 117,
   "metadata": {},
   "outputs": [
    {
     "data": {
      "text/plain": [
       "'[\\n{\"Question\":\"Explain the process of Water cycle ?\",\\n \"Type\":\"Theory\",\\n \"Response\":\"Attempted\",\\n \"Syntactic Score\":50,\\n \"Semantic Score\":60,\\n \"Contextual Score\":40,\\n \"FirstStep Score\":null,\\n \"Middle Step Score\":null,\\n \"Last Step Score\":null,\\n \"Total Score\":\"50\"},\\n\\n{\"Question\":\"What is GitHub and why is it used ?\",\\n \"Type\":\"Theory\",\\n \"Response\":\"Attempted\",\\n \"Syntactic Score\":70,\\n \"Semantic Score\":80,\\n \"Contextual Score\":60,\\n \"FirstStep Score\":null,\\n \"Middle Step Score\":null,\\n \"Last Step Score\":null,\\n \"Total Score\":\"70\"},\\n\\n{\"Question\":\"Two resistances are connected in two gaps of Meter Bridge . The balance is 20cm from the zero end . A resistance of 15 ohms is connected in series with the smaller of the two . The null point shifts to 40cm . What is the value of the bigger resistance ?\",\\n \"Type\":\"Theory\",\\n \"Response\":\"Attempted\",\\n \"Syntactic Score\":80,\\n \"Semantic Score\":90,\\n \"Contextual Score\":70,\\n \"FirstStep Score\":null,\\n \"Middle Step Score\":null,\\n \"Last Step Score\":null,\\n \"Total Score\":\"80\"},\\n\\n{\"Question\":\"Find the roots of the equation y ^ 3 23y ^ 2 + 142y 120 ?\",\\n \"Type\":\"Numerical\",\\n \"Response\":\"Attempted\",\\n \"Syntactic Score\":null,\\n \"Semantic Score\":null,\\n \"Contextual Score\":null,\\n \"FirstStep Score\":80,\\n \"Middle Step Score\":70,\\n \"Last Step Score\":60,\\n \"Total Score\":\"70\"},\\n\\n{\"Question\":\"The resistivity of semiconductors and insulators decreases linearly with the increase of temperature . ?\",\\n \"Type\":\"Theory\",\\n \"Response\":\"Not Attempted\",\\n \"Syntactic Score\":null,\\n \"Semantic Score\":null,\\n \"Contextual Score\":null,\\n \"FirstStep Score\":null,\\n \"Middle Step Score\":null,\\n \"Last Step Score\":null,\\n \"Total Score\":\"0\"}\\n]'"
      ]
     },
     "execution_count": 117,
     "metadata": {},
     "output_type": "execute_result"
    }
   ],
   "source": [
    "output"
   ]
  },
  {
   "cell_type": "code",
   "execution_count": 118,
   "metadata": {},
   "outputs": [],
   "source": [
    "data = json.loads(output)"
   ]
  },
  {
   "cell_type": "code",
   "execution_count": 119,
   "metadata": {},
   "outputs": [],
   "source": [
    "df = pd.DataFrame(data)"
   ]
  },
  {
   "cell_type": "code",
   "execution_count": 120,
   "metadata": {},
   "outputs": [
    {
     "data": {
      "text/html": [
       "<div>\n",
       "<style scoped>\n",
       "    .dataframe tbody tr th:only-of-type {\n",
       "        vertical-align: middle;\n",
       "    }\n",
       "\n",
       "    .dataframe tbody tr th {\n",
       "        vertical-align: top;\n",
       "    }\n",
       "\n",
       "    .dataframe thead th {\n",
       "        text-align: right;\n",
       "    }\n",
       "</style>\n",
       "<table border=\"1\" class=\"dataframe\">\n",
       "  <thead>\n",
       "    <tr style=\"text-align: right;\">\n",
       "      <th></th>\n",
       "      <th>Question</th>\n",
       "      <th>Type</th>\n",
       "      <th>Response</th>\n",
       "      <th>Syntactic Score</th>\n",
       "      <th>Semantic Score</th>\n",
       "      <th>Contextual Score</th>\n",
       "      <th>FirstStep Score</th>\n",
       "      <th>Middle Step Score</th>\n",
       "      <th>Last Step Score</th>\n",
       "      <th>Total Score</th>\n",
       "    </tr>\n",
       "  </thead>\n",
       "  <tbody>\n",
       "    <tr>\n",
       "      <th>0</th>\n",
       "      <td>Explain the process of Water cycle ?</td>\n",
       "      <td>Theory</td>\n",
       "      <td>Attempted</td>\n",
       "      <td>50.0</td>\n",
       "      <td>60.0</td>\n",
       "      <td>40.0</td>\n",
       "      <td>NaN</td>\n",
       "      <td>NaN</td>\n",
       "      <td>NaN</td>\n",
       "      <td>50</td>\n",
       "    </tr>\n",
       "    <tr>\n",
       "      <th>1</th>\n",
       "      <td>What is GitHub and why is it used ?</td>\n",
       "      <td>Theory</td>\n",
       "      <td>Attempted</td>\n",
       "      <td>70.0</td>\n",
       "      <td>80.0</td>\n",
       "      <td>60.0</td>\n",
       "      <td>NaN</td>\n",
       "      <td>NaN</td>\n",
       "      <td>NaN</td>\n",
       "      <td>70</td>\n",
       "    </tr>\n",
       "    <tr>\n",
       "      <th>2</th>\n",
       "      <td>Two resistances are connected in two gaps of M...</td>\n",
       "      <td>Theory</td>\n",
       "      <td>Attempted</td>\n",
       "      <td>80.0</td>\n",
       "      <td>90.0</td>\n",
       "      <td>70.0</td>\n",
       "      <td>NaN</td>\n",
       "      <td>NaN</td>\n",
       "      <td>NaN</td>\n",
       "      <td>80</td>\n",
       "    </tr>\n",
       "    <tr>\n",
       "      <th>3</th>\n",
       "      <td>Find the roots of the equation y ^ 3 23y ^ 2 +...</td>\n",
       "      <td>Numerical</td>\n",
       "      <td>Attempted</td>\n",
       "      <td>NaN</td>\n",
       "      <td>NaN</td>\n",
       "      <td>NaN</td>\n",
       "      <td>80.0</td>\n",
       "      <td>70.0</td>\n",
       "      <td>60.0</td>\n",
       "      <td>70</td>\n",
       "    </tr>\n",
       "    <tr>\n",
       "      <th>4</th>\n",
       "      <td>The resistivity of semiconductors and insulato...</td>\n",
       "      <td>Theory</td>\n",
       "      <td>Not Attempted</td>\n",
       "      <td>NaN</td>\n",
       "      <td>NaN</td>\n",
       "      <td>NaN</td>\n",
       "      <td>NaN</td>\n",
       "      <td>NaN</td>\n",
       "      <td>NaN</td>\n",
       "      <td>0</td>\n",
       "    </tr>\n",
       "  </tbody>\n",
       "</table>\n",
       "</div>"
      ],
      "text/plain": [
       "                                            Question       Type  \\\n",
       "0               Explain the process of Water cycle ?     Theory   \n",
       "1                What is GitHub and why is it used ?     Theory   \n",
       "2  Two resistances are connected in two gaps of M...     Theory   \n",
       "3  Find the roots of the equation y ^ 3 23y ^ 2 +...  Numerical   \n",
       "4  The resistivity of semiconductors and insulato...     Theory   \n",
       "\n",
       "        Response  Syntactic Score  Semantic Score  Contextual Score  \\\n",
       "0      Attempted             50.0            60.0              40.0   \n",
       "1      Attempted             70.0            80.0              60.0   \n",
       "2      Attempted             80.0            90.0              70.0   \n",
       "3      Attempted              NaN             NaN               NaN   \n",
       "4  Not Attempted              NaN             NaN               NaN   \n",
       "\n",
       "   FirstStep Score  Middle Step Score  Last Step Score Total Score  \n",
       "0              NaN                NaN              NaN          50  \n",
       "1              NaN                NaN              NaN          70  \n",
       "2              NaN                NaN              NaN          80  \n",
       "3             80.0               70.0             60.0          70  \n",
       "4              NaN                NaN              NaN           0  "
      ]
     },
     "execution_count": 120,
     "metadata": {},
     "output_type": "execute_result"
    }
   ],
   "source": [
    "df"
   ]
  },
  {
   "cell_type": "code",
   "execution_count": 121,
   "metadata": {},
   "outputs": [
    {
     "name": "stdout",
     "output_type": "stream",
     "text": [
      "Total Tokens:4266\n",
      "Prompt Tokens:3327\n",
      "Completion Tokens:939\n",
      "Total Cost:0.0068685\n"
     ]
    }
   ],
   "source": [
    "print(f\"Total Tokens:{cb.total_tokens}\")\n",
    "print(f\"Prompt Tokens:{cb.prompt_tokens}\")\n",
    "print(f\"Completion Tokens:{cb.completion_tokens}\")\n",
    "print(f\"Total Cost:{cb.total_cost}\")"
   ]
  }
 ],
 "metadata": {
  "kernelspec": {
   "display_name": "Python 3",
   "language": "python",
   "name": "python3"
  },
  "language_info": {
   "codemirror_mode": {
    "name": "ipython",
    "version": 3
   },
   "file_extension": ".py",
   "mimetype": "text/x-python",
   "name": "python",
   "nbconvert_exporter": "python",
   "pygments_lexer": "ipython3",
   "version": "3.8.19"
  }
 },
 "nbformat": 4,
 "nbformat_minor": 2
}
